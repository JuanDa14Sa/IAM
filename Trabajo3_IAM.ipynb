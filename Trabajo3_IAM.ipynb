{
  "nbformat": 4,
  "nbformat_minor": 0,
  "metadata": {
    "colab": {
      "name": "Trabajo3_IAM.ipynb",
      "provenance": [],
      "collapsed_sections": [],
      "authorship_tag": "ABX9TyPBB584eiapOf73LCe77XfP",
      "include_colab_link": true
    },
    "kernelspec": {
      "name": "python3",
      "display_name": "Python 3"
    },
    "language_info": {
      "name": "python"
    }
  },
  "cells": [
    {
      "cell_type": "markdown",
      "metadata": {
        "id": "view-in-github",
        "colab_type": "text"
      },
      "source": [
        "<a href=\"https://colab.research.google.com/github/JuanDa14Sa/IAM/blob/main/Trabajo3_IAM.ipynb\" target=\"_parent\"><img src=\"https://colab.research.google.com/assets/colab-badge.svg\" alt=\"Open In Colab\"/></a>"
      ]
    },
    {
      "cell_type": "markdown",
      "metadata": {
        "id": "6XWNqJ6F24UU"
      },
      "source": [
        "**Tarea 3-Introducción al aprendizaje de maquina**\n",
        "\n",
        "**Juan David Sánchez Murcia**"
      ]
    },
    {
      "cell_type": "markdown",
      "metadata": {
        "id": "6Wk1Nr0enP0x"
      },
      "source": [
        "**Exercise 2.2**\n",
        "*   a) Verifiquemos la cota en los tres casos:\n",
        "*   i) Rayos positivos: Sabemos que estos tienen breakpoint en $k=2$, luego \n",
        "$$m_H(N)\\leq \\sum_{i=0}^1 \\binom{N}{k}=1+N.$$\n",
        "\n",
        "Calculando $m_H(N)$, tenemos que cada punto determina una región y además tenemos la región que no colorea ningún punto, por lo tanto $m_H(N)=1+N$, así que coincide con el teorema.\n",
        "\n",
        "*   ii) Intervalos positivos: Sabemos que estos tienen breakpoint en $k=3$, luego \n",
        "$$m_H(N)\\leq \\sum_{i=0}^2 \\binom{N}{k}=1+N+\\frac{(N-1)(N)}{2}=1+\\frac{N(N+1)}{2}.$$\n",
        "\n",
        "Calculando $m_H(N)$, tenemos que cada intervalo se determina mediante dos puntos o por ningún punto, es decir puede ser un intervalo vacio, por lo que estamos escogiendo entre $N+1$ puntos una pareja, además tenemos el caso en el que ambos extremos del intervalo sean iguales, luego \n",
        "\n",
        "$$m_H(N)=\\binom{N+1}{2}+1=1+\\frac{N(N+1)}{2},$$\n",
        "\n",
        "así que la cota del teorema es correcta.\n",
        "\n",
        "*   iii) Conjuntos convexos: En este caso no hay breakpoint y $m_H(N)=2^N$.\n",
        "\n",
        "*   b)  Supongamos que dicho conjunto de hipótesis existe, luego para $k=3$ se tiene \n",
        "$$m_H(3)=3+2^1=5\\leq 2^3=8,$$\n",
        "así que $k=3$ es un breakpoint, de donde usando el teorema para acotar $m_H$ tenemos que \n",
        "$$m_H(N)=N+2^{\\lfloor N/2\\rfloor}\\leq 1+\\frac{N(N+1)}{2}$$\n",
        "sin embargo el lado izquierdo crece de forma exponencial, mientras que el lado derecho es un polinomio, así que para algún valor de $N$ no se va a tener el teorema. Concluimos que no puede existir dicho conjunto de hipótesis.\n"
      ]
    },
    {
      "cell_type": "markdown",
      "metadata": {
        "id": "qpGm0SHbuJpc"
      },
      "source": [
        "**Exercise 2.5**\n",
        "Despejando $\\delta$ de la cota VC tenemos que:\n",
        "$$\\delta=4(2N+1)e^{\\frac{-0.1^2N}{8}}$$\n",
        "y reemplazando $N=100$ tenemos $\\delta=709.5275$, esto se da con probabilidad mayor o igual a $-708.5275$, es decir con probabilidad mayor o igual a $0$, así es una estimación mala."
      ]
    },
    {
      "cell_type": "markdown",
      "metadata": {
        "id": "gunovqGptznd"
      },
      "source": [
        "**Exercise 2.6**\n",
        " *   a) Usando la cota de generalización o de error \n",
        " $$E_{out}\\leq E_{in}+\\sqrt{\\frac{1}{2N}ln\\left(\\frac{2M}{\\delta}\\right)}$$\n",
        " \n",
        " tenemos que el error en la fase de entrenamiento está acotado por $0.11$  y en la fase de testeo por $0.096$, por lo que es mayor en la fase de entrenamiento.\n",
        "\n",
        " *  b) Si reservamos más ejemplos para el test set entonces vamos a tener que reducir el número de ejemplos para el entrenamiento, y ya vimos el error en el testeo es más bajo, por lo tanto al reservar más ejemplos el testo podriamos terminar con un error bajo en el testo pero uno muy alto en el entrenamiento.\n"
      ]
    },
    {
      "cell_type": "markdown",
      "metadata": {
        "id": "6MQ7d4WbG0r1"
      },
      "source": [
        "**Problem 2.1**\n",
        "Si despejamos $N$ de la ecuación dada obtenemos:\n",
        "$$ln\\left(\\frac{2M}{\\delta}\\right)\\frac{1}{2\\varepsilon^2}=N$$\n",
        "\n",
        "así que reemplazando los valores dados en cada punto:\n",
        "*   a) $N=839.94$ para $M=1$\n",
        "*   b) $N=1760.97$ para $M=100$\n",
        "*   c) $N=2682.009$ para $M=1000$"
      ]
    },
    {
      "cell_type": "markdown",
      "metadata": {
        "id": "tKXaFSIoOMLO"
      },
      "source": [
        "**Problem 2.12**\n",
        "\n",
        "Desarollemos un código para dar un estimado de la muestra:"
      ]
    },
    {
      "cell_type": "code",
      "metadata": {
        "colab": {
          "base_uri": "https://localhost:8080/"
        },
        "id": "Rh5yZylWMrVD",
        "outputId": "8679899f-c633-4b1a-e11a-af167f4e48f6"
      },
      "source": [
        "import numpy as np\n",
        "import math\n",
        "dvc = 10\n",
        "delta = 0.05\n",
        "epsilon = 0.05\n",
        "maxit=1000\n",
        "initial_guess=1000\n",
        "tol=5\n",
        "\n",
        "def iterative_sample(initial_guess, dvc, delta, epsilon, maxit, tol):\n",
        "    N = initial_guess\n",
        "    for i in range(maxit):\n",
        "        estimate = (8/epsilon**2) * np.log((4*(2*N)**(dvc)+1)/delta) \n",
        "        error = N - estimate\n",
        "        if np.abs(error) <= tol:\n",
        "            break\n",
        "        N = math.ceil(estimate)\n",
        "    return N\n",
        "\n",
        "print('La estimación de la muestra es de: ', iterative_sample(initial_guess, dvc, delta, epsilon, maxit, tol))"
      ],
      "execution_count": null,
      "outputs": [
        {
          "output_type": "stream",
          "text": [
            "La estimación de la muestra es de:  452957\n"
          ],
          "name": "stdout"
        }
      ]
    },
    {
      "cell_type": "markdown",
      "metadata": {
        "id": "VG5s5rHXO9gv"
      },
      "source": [
        "**Problem 2.16**\n",
        "\n",
        "*   a) Note que $$\\sum_{i=0}^D c_ix^i$$ es un polinomio de grado $D$, así que dados cualesquiera $D+1$ puntos podemos interpolar un polinomio de grado $D$. Además como el polinomio tendrá $D$ raíces, podemos ver que al pasar de izquierda a la derecha de una raíz el signo va a cambiar, así que tendríamos $D+1$ espacios para ubicar nuestros $D+1$ puntos, así que podemos explicar todas las combinaciones y por lo tanto $D+1$ puntos son \"separados\" por $\\mathcal{H}$.\n",
        "\n",
        "*  b) Como el polinomio es de grado $D$, entonces para $D+2$ puntos solo hay $D$ raíces, así que deben haber dos puntos que caigan a la izquierda o a la derecha de una misma raíz, luego estos dos puntos tendran el mismo signo, de donde la hipótesis no puede explicar todas las combinaciones. De esto concluimos que la dimensión $VC$ es $D+1$ "
      ]
    },
    {
      "cell_type": "markdown",
      "metadata": {
        "id": "2PkaLsNzSg3P"
      },
      "source": [
        "**Problem 2.20**"
      ]
    },
    {
      "cell_type": "code",
      "metadata": {
        "colab": {
          "base_uri": "https://localhost:8080/",
          "height": 282
        },
        "id": "I175ynEXUXwc",
        "outputId": "3df53d58-a621-4216-e552-519bbda884ed"
      },
      "source": [
        "import matplotlib.pyplot as plt\n",
        "import numpy as np\n",
        "from functools import partial\n",
        "\n",
        "\n",
        "\n",
        "def growth_fun_(N,d):\n",
        "  return N**d+1\n",
        "\n",
        "growth_fun=partial(growth_fun_,d=dvc)\n",
        "\n",
        "def vc_bound(delta,growth_fun,N):\n",
        "  return np.sqrt((8/N) * np.log((4*growth_fun(2*N))/delta))\n",
        "\n",
        "def rademacher(delta,growth_fun,N):\n",
        "  return np.sqrt((2*np.log(2*N*growth_fun(N)))/N)+np.sqrt((2/N)*np.log(1/delta))+(1/N)\n",
        "\n",
        "def parrondo_broek(delta,growth_fun,N):\n",
        "  return (1+np.sqrt(1+N*np.log(6*growth_fun(2*N)/delta)))/N\n",
        "\n",
        "def devroye(delta,growth_fun,N):\n",
        "  return (1+np.sqrt(1+((N-2)/2)*np.log((4*growth_fun(N**2))/(delta))))/(N-2)\n",
        "\n",
        "y_vc,y_rad,y_parr,y_dev=[],[],[],[]\n",
        "\n",
        "dvc=50\n",
        "delta=0.05\n",
        "x= np.arange(3,1000)*1.0\n",
        "\n",
        "for i in x:\n",
        "  y_vc.append(vc_bound(delta,growth_fun,i))\n",
        "  y_rad.append(rademacher(delta,growth_fun,i))\n",
        "  y_parr.append(parrondo_broek(delta,growth_fun,i))\n",
        "  y_dev.append(devroye(delta,growth_fun,i))\n",
        "\n",
        "plt.plot(x,y_vc,color='b',label='Cota VC')\n",
        "plt.plot(x,y_rad,color='y',label='Cota Radamacher')\n",
        "plt.plot(x,y_parr,color='r',label='Cota Parrondo y Van den Broek ')\n",
        "plt.plot(x,y_dev,color='g',label='Cota Devroye')\n",
        "plt.yscale('log')\n",
        "plt.legend()"
      ],
      "execution_count": 31,
      "outputs": [
        {
          "output_type": "execute_result",
          "data": {
            "text/plain": [
              "<matplotlib.legend.Legend at 0x7f1e7e7c57d0>"
            ]
          },
          "metadata": {
            "tags": []
          },
          "execution_count": 31
        },
        {
          "output_type": "display_data",
          "data": {
            "image/png": "[encoded data removed]",
            "text/plain": [
              "<Figure size 432x288 with 1 Axes>"
            ]
          },
          "metadata": {
            "tags": [],
            "needs_background": "light"
          }
        }
      ]
    },
    {
      "cell_type": "markdown",
      "metadata": {
        "id": "bUpGl9Ht2uQ5"
      },
      "source": [
        "La cota de Devroye y la cota de Parrondo y Van den Broek parecen ser las mejores."
      ]
    }
  ]
}